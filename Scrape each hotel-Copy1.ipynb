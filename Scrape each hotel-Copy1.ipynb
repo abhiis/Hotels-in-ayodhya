{
 "cells": [
  {
   "cell_type": "code",
   "execution_count": 8,
   "id": "9785e988-d540-474c-9ab0-c6258f3583d5",
   "metadata": {},
   "outputs": [],
   "source": [
    "from bs4 import BeautifulSoup\n",
    "import time\n",
    "import pandas as pd\n",
    "from selenium import webdriver\n",
    "from tqdm import tqdm\n",
    "from selenium.webdriver.firefox.options import Options\n",
    "import warnings\n",
    "warnings.filterwarnings('ignore');"
   ]
  },
  {
   "cell_type": "code",
   "execution_count": 2,
   "id": "6e15bf6e-b6ba-4c7f-9eef-ba01c3f9b247",
   "metadata": {},
   "outputs": [],
   "source": [
    "def create_firefox_webdriver(headless=False):\n",
    "    # Set options for WebDriver\n",
    "    options = Options()\n",
    "    options.headless = headless\n",
    "\n",
    "    # Create a new instance of the Firefox driver\n",
    "    driver = webdriver.Chrome(options=options)\n",
    "\n",
    "    return driver\n",
    "\n",
    "driver = create_firefox_webdriver(headless=False)"
   ]
  },
  {
   "cell_type": "code",
   "execution_count": 3,
   "id": "3e5d0dfe-40b5-44f0-aa0f-cd86f6c8f6e0",
   "metadata": {},
   "outputs": [],
   "source": [
    "##Load hotel list\n",
    "hotels = pd.read_excel('Hotels in Ayodhya.xlsx')\n",
    "df1=hotels.copy()"
   ]
  },
  {
   "cell_type": "markdown",
   "id": "f8ccc7ae-b0f3-4595-a0a4-8e0fef038400",
   "metadata": {},
   "source": [
    "##### Extract Data"
   ]
  },
  {
   "cell_type": "code",
   "execution_count": 53,
   "id": "6101d02c-f5d2-4aab-af65-463d4ce98d60",
   "metadata": {
    "editable": true,
    "slideshow": {
     "slide_type": ""
    },
    "tags": []
   },
   "outputs": [
    {
     "name": "stderr",
     "output_type": "stream",
     "text": [
      "Extracting.............: 103it [15:41,  9.14s/it]\n"
     ]
    }
   ],
   "source": [
    "hotel_data=[]\n",
    "meta_data={}\n",
    "for idx,value in tqdm(df1.iterrows(),desc='Extracting.............'):\n",
    "        link='https:'+value['link']\n",
    "        driver.refresh()\n",
    "        driver.get(link)\n",
    "        time.sleep(2)\n",
    "        soup = BeautifulSoup(driver.page_source, 'html.parser')\n",
    "        fclt_div = soup.find('div', class_='appendTop52')\n",
    "        meta_data['name']=value['Hotel_Name']\n",
    "\n",
    "    \n",
    "        meta_data['aminity']=[]\n",
    "        try:\n",
    "            time.sleep(1)\n",
    "            _divs = fclt_div.find_all('div', class_='fcltyLst_item')\n",
    "            for _div in _divs:\n",
    "                meta_data['aminity'].append(_div.text+' *')\n",
    "        except Exception as e:\n",
    "            print(idx,\" \",e)\n",
    "            meta_data['aminity']=None\n",
    "\n",
    "\n",
    "        meta_data['rules']=[]\n",
    "        try:\n",
    "            rule_div = soup.find_all('div', class_='htlRules__list--item')[1:]\n",
    "            for element in rule_div:\n",
    "                meta_data['rules'].append(element.text.strip()+\" *\")\n",
    "        except Exception as e:\n",
    "            print(idx,\" \",e)\n",
    "            meta_data['rules']=None\n",
    "\n",
    "\n",
    "        meta_data['reviews']=[]\n",
    "        try:\n",
    "            review_div = soup.find('div', class_='_RatingReview')\n",
    "            if review_div:\n",
    "                divs = review_div.find_all('div', class_='reviewBox')\n",
    "                if len(divs)>1:\n",
    "                    divs=divs[1:]\n",
    "                for div in (divs):\n",
    "                    meta_data['reviews'].append(div.text+\" *\")\n",
    "        except Exception as e:\n",
    "            print(idx,\"  \",e)\n",
    "            meta_data['reviews']=None\n",
    "            meta_data={}\n",
    "\n",
    "\n",
    "        hotel_data.append(meta_data)\n",
    "        meta_data={}"
   ]
  },
  {
   "cell_type": "code",
   "execution_count": 35,
   "id": "d8f5dab7-fae3-418b-8780-6cdce7d786ac",
   "metadata": {},
   "outputs": [],
   "source": [
    "temp=pd.DataFrame.from_records(hotel_data)"
   ]
  },
  {
   "cell_type": "code",
   "execution_count": 54,
   "id": "f30bdde8-64ac-412c-89a1-a772f950e714",
   "metadata": {},
   "outputs": [],
   "source": [
    "ht=hotel_data"
   ]
  },
  {
   "cell_type": "code",
   "execution_count": 56,
   "id": "ae77459e-ad91-4580-8c10-80c50ed77308",
   "metadata": {},
   "outputs": [],
   "source": [
    "for hotel in ht:\n",
    "    hotel['aminity']=\" \".join(hotel['aminity'])\n",
    "    hotel['rules']=\" \".join(hotel['rules'])\n",
    "    hotel['reviews']=\" \".join(hotel['reviews'])"
   ]
  },
  {
   "cell_type": "code",
   "execution_count": 59,
   "id": "2787037e-56a7-4eb1-b541-24337911307a",
   "metadata": {},
   "outputs": [],
   "source": [
    "temp=pd.DataFrame.from_records(ht)"
   ]
  },
  {
   "cell_type": "markdown",
   "id": "7a511612-7b57-4d9f-ac5b-7ad8195e0f7f",
   "metadata": {},
   "source": [
    "##### Review sentiment analysis"
   ]
  },
  {
   "cell_type": "code",
   "execution_count": 77,
   "id": "9dfcbdef-3660-4a2e-9347-f5692c52e12c",
   "metadata": {},
   "outputs": [
    {
     "name": "stderr",
     "output_type": "stream",
     "text": [
      "All PyTorch model weights were used when initializing TFDistilBertForSequenceClassification.\n",
      "\n",
      "All the weights of TFDistilBertForSequenceClassification were initialized from the PyTorch model.\n",
      "If your task is similar to the task the model of the checkpoint was trained on, you can already use TFDistilBertForSequenceClassification for predictions without further training.\n"
     ]
    }
   ],
   "source": [
    "from transformers import pipeline\n",
    "pipe= pipeline(\n",
    "    model=\"lxyuan/distilbert-base-multilingual-cased-sentiments-student\", \n",
    "    return_all_scores=True\n",
    ")"
   ]
  },
  {
   "cell_type": "code",
   "execution_count": 78,
   "id": "6cf3297f-dc02-4cd2-a176-9865c5e7686e",
   "metadata": {},
   "outputs": [],
   "source": [
    "rslt=pipe('im felling very dull today')"
   ]
  },
  {
   "cell_type": "code",
   "execution_count": 87,
   "id": "0d377172-6cea-4c4e-b180-ce6ba6374885",
   "metadata": {},
   "outputs": [
    {
     "data": {
      "text/plain": [
       "{'label': 'negative', 'score': 0.733554482460022}"
      ]
     },
     "execution_count": 87,
     "metadata": {},
     "output_type": "execute_result"
    }
   ],
   "source": [
    "rslt[0][2]"
   ]
  },
  {
   "cell_type": "code",
   "execution_count": 98,
   "id": "01ebad4a-1287-4a10-b340-8ad88e0eb866",
   "metadata": {},
   "outputs": [
    {
     "name": "stderr",
     "output_type": "stream",
     "text": [
      "processing: 103it [01:31,  1.13it/s]\n"
     ]
    }
   ],
   "source": [
    "temp['positive']=None\n",
    "temp['negative']=None\n",
    "temp['neutral']=None\n",
    "\n",
    "null_reviews_idx=temp.loc[temp['reviews']==\"\"].index\n",
    "\n",
    "def calculate_mean(value):\n",
    "    if not value:\n",
    "        return None\n",
    "    else:\n",
    "        total=sum(value)\n",
    "        mean=total/len(value)\n",
    "        return mean\n",
    "\n",
    "\n",
    "for i,review in tqdm(enumerate(temp['reviews']),desc='processing'):\n",
    "    pos=[]\n",
    "    neu=[]\n",
    "    neg=[]\n",
    "    if i not in null_reviews_idx:\n",
    "        splitted_review=review.split(\"*\")\n",
    "        total_reviews=len(splitted_review)\n",
    "        temp.loc[i,'total_reviews']=total_reviews\n",
    "        for each in splitted_review:\n",
    "            result=pipe(each)\n",
    "            pos.append(result[0][0]['score'])\n",
    "            neu.append(result[0][1]['score'])\n",
    "            neg.append(result[0][1]['score'])\n",
    "        temp.loc[i,'positive']=calculate_mean(pos)*100\n",
    "        temp.loc[i,'neutral']=calculate_mean(neu)*100\n",
    "        temp.loc[i,'negative']=calculate_mean(neg)*100\n",
    "    \n",
    "        \n",
    "    "
   ]
  },
  {
   "cell_type": "code",
   "execution_count": 123,
   "id": "18f106ce-d77b-4c64-be38-69eedadf141e",
   "metadata": {},
   "outputs": [
    {
     "data": {
      "text/html": [
       "<div>\n",
       "<style scoped>\n",
       "    .dataframe tbody tr th:only-of-type {\n",
       "        vertical-align: middle;\n",
       "    }\n",
       "\n",
       "    .dataframe tbody tr th {\n",
       "        vertical-align: top;\n",
       "    }\n",
       "\n",
       "    .dataframe thead th {\n",
       "        text-align: right;\n",
       "    }\n",
       "</style>\n",
       "<table border=\"1\" class=\"dataframe\">\n",
       "  <thead>\n",
       "    <tr style=\"text-align: right;\">\n",
       "      <th></th>\n",
       "      <th>name</th>\n",
       "      <th>aminity</th>\n",
       "      <th>rules</th>\n",
       "      <th>reviews</th>\n",
       "      <th>positive</th>\n",
       "      <th>negative</th>\n",
       "      <th>neutral</th>\n",
       "      <th>total_reviews</th>\n",
       "    </tr>\n",
       "  </thead>\n",
       "  <tbody>\n",
       "    <tr>\n",
       "      <th>0</th>\n",
       "      <td>Apoorva Guest House</td>\n",
       "      <td>Highlighted Amenities- Free Parking- Power Bac...</td>\n",
       "      <td>Aadhar, Driving License and Govt. ID are accep...</td>\n",
       "      <td></td>\n",
       "      <td>0.000000</td>\n",
       "      <td>0.000000</td>\n",
       "      <td>0.000000</td>\n",
       "      <td>NaN</td>\n",
       "    </tr>\n",
       "    <tr>\n",
       "      <th>1</th>\n",
       "      <td>Hotel Hanuman Ji</td>\n",
       "      <td>Highlighted Amenities- Fireplace- Smoking Room...</td>\n",
       "      <td>Outside food is not allowed * Unmarried couple...</td>\n",
       "      <td>Excellent Stay Rated  5.0 by PRADEEP MANOHAR K...</td>\n",
       "      <td>65.303374</td>\n",
       "      <td>13.779504</td>\n",
       "      <td>13.779504</td>\n",
       "      <td>7.0</td>\n",
       "    </tr>\n",
       "    <tr>\n",
       "      <th>2</th>\n",
       "      <td>OYO Home Siya Homestay</td>\n",
       "      <td>Popular Amenities- Caretaker- Luggage Storage-...</td>\n",
       "      <td>Passport, Aadhar, Driving License and Govt. ID...</td>\n",
       "      <td></td>\n",
       "      <td>0.000000</td>\n",
       "      <td>0.000000</td>\n",
       "      <td>0.000000</td>\n",
       "      <td>NaN</td>\n",
       "    </tr>\n",
       "    <tr>\n",
       "      <th>3</th>\n",
       "      <td>Hotel Shri Ram Bhavan Seeta Swayamvar Marriage...</td>\n",
       "      <td>Highlighted Amenities- Water Sports- Spa- Rest...</td>\n",
       "      <td>Guests below 18 years of age are not allowed a...</td>\n",
       "      <td>Room Rated  4.0 by Sanjeev Kumar Saxena .  Oct...</td>\n",
       "      <td>48.411285</td>\n",
       "      <td>26.455422</td>\n",
       "      <td>26.455422</td>\n",
       "      <td>7.0</td>\n",
       "    </tr>\n",
       "    <tr>\n",
       "      <th>4</th>\n",
       "      <td>Life Point grand</td>\n",
       "      <td>Highlighted Amenities- Restaurant- Fireplace- ...</td>\n",
       "      <td>Guests below 18 years of age are not allowed a...</td>\n",
       "      <td>Excellent Stay Rated  5.0 by Manish Kumar .  N...</td>\n",
       "      <td>69.529149</td>\n",
       "      <td>15.900148</td>\n",
       "      <td>15.900148</td>\n",
       "      <td>2.0</td>\n",
       "    </tr>\n",
       "  </tbody>\n",
       "</table>\n",
       "</div>"
      ],
      "text/plain": [
       "                                                name  \\\n",
       "0                                Apoorva Guest House   \n",
       "1                                   Hotel Hanuman Ji   \n",
       "2                             OYO Home Siya Homestay   \n",
       "3  Hotel Shri Ram Bhavan Seeta Swayamvar Marriage...   \n",
       "4                                   Life Point grand   \n",
       "\n",
       "                                             aminity  \\\n",
       "0  Highlighted Amenities- Free Parking- Power Bac...   \n",
       "1  Highlighted Amenities- Fireplace- Smoking Room...   \n",
       "2  Popular Amenities- Caretaker- Luggage Storage-...   \n",
       "3  Highlighted Amenities- Water Sports- Spa- Rest...   \n",
       "4  Highlighted Amenities- Restaurant- Fireplace- ...   \n",
       "\n",
       "                                               rules  \\\n",
       "0  Aadhar, Driving License and Govt. ID are accep...   \n",
       "1  Outside food is not allowed * Unmarried couple...   \n",
       "2  Passport, Aadhar, Driving License and Govt. ID...   \n",
       "3  Guests below 18 years of age are not allowed a...   \n",
       "4  Guests below 18 years of age are not allowed a...   \n",
       "\n",
       "                                             reviews   positive   negative  \\\n",
       "0                                                      0.000000   0.000000   \n",
       "1  Excellent Stay Rated  5.0 by PRADEEP MANOHAR K...  65.303374  13.779504   \n",
       "2                                                      0.000000   0.000000   \n",
       "3  Room Rated  4.0 by Sanjeev Kumar Saxena .  Oct...  48.411285  26.455422   \n",
       "4  Excellent Stay Rated  5.0 by Manish Kumar .  N...  69.529149  15.900148   \n",
       "\n",
       "     neutral  total_reviews  \n",
       "0   0.000000            NaN  \n",
       "1  13.779504            7.0  \n",
       "2   0.000000            NaN  \n",
       "3  26.455422            7.0  \n",
       "4  15.900148            2.0  "
      ]
     },
     "execution_count": 123,
     "metadata": {},
     "output_type": "execute_result"
    }
   ],
   "source": [
    "temp.head()"
   ]
  },
  {
   "cell_type": "code",
   "execution_count": 121,
   "id": "9fc1c9da-1209-4b68-b579-c202bca6febe",
   "metadata": {},
   "outputs": [],
   "source": [
    "temp['positive'].fillna(0,inplace=True)\n",
    "temp['negative'].fillna(0,inplace=True)\n",
    "temp['neutral'].fillna(0,inplace=True)"
   ]
  },
  {
   "cell_type": "code",
   "execution_count": 122,
   "id": "e0186384-58cb-4a7f-a015-cb77687922df",
   "metadata": {},
   "outputs": [],
   "source": [
    "temp.to_excel('Hotel-meta-data_colllected.xlsx',index=False)"
   ]
  }
 ],
 "metadata": {
  "kernelspec": {
   "display_name": "Python 3 (ipykernel)",
   "language": "python",
   "name": "python3"
  },
  "language_info": {
   "codemirror_mode": {
    "name": "ipython",
    "version": 3
   },
   "file_extension": ".py",
   "mimetype": "text/x-python",
   "name": "python",
   "nbconvert_exporter": "python",
   "pygments_lexer": "ipython3",
   "version": "3.9.18"
  }
 },
 "nbformat": 4,
 "nbformat_minor": 5
}
